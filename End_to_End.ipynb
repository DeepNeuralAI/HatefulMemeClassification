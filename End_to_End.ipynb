{
  "nbformat": 4,
  "nbformat_minor": 0,
  "metadata": {
    "colab": {
      "name": "End_to_End.ipynb",
      "provenance": [],
      "collapsed_sections": []
    },
    "kernelspec": {
      "name": "python3",
      "display_name": "Python 3"
    },
    "language_info": {
      "name": "python"
    }
  },
  "cells": [
    {
      "cell_type": "code",
      "metadata": {
        "id": "pSW7igvJI53h",
        "colab": {
          "base_uri": "https://localhost:8080/"
        },
        "outputId": "896e7e1c-ac79-4d0b-f7cb-c78359d47898"
      },
      "source": [
        "%load_ext tensorboard"
      ],
      "execution_count": null,
      "outputs": [
        {
          "output_type": "stream",
          "text": [
            "The tensorboard extension is already loaded. To reload it, use:\n",
            "  %reload_ext tensorboard\n"
          ],
          "name": "stdout"
        }
      ]
    },
    {
      "cell_type": "markdown",
      "metadata": {
        "id": "FlLTwakVulpF"
      },
      "source": [
        "## GPU Info & Mounting"
      ]
    },
    {
      "cell_type": "code",
      "metadata": {
        "id": "64bltJAdsECN"
      },
      "source": [
        "## GPU info"
      ],
      "execution_count": null,
      "outputs": []
    },
    {
      "cell_type": "code",
      "metadata": {
        "colab": {
          "base_uri": "https://localhost:8080/"
        },
        "id": "YSI-EUpLsCO9",
        "outputId": "ac440a93-6336-4609-aa1b-6363d37e7cff"
      },
      "source": [
        "gpu_info = !nvidia-smi\n",
        "gpu_info = '\\n'.join(gpu_info)\n",
        "if gpu_info.find('failed') >= 0:\n",
        "  print('Select the Runtime > \"Change runtime type\" menu to enable a GPU accelerator, ')\n",
        "  print('and then re-execute this cell.')\n",
        "else:\n",
        "  print(gpu_info)"
      ],
      "execution_count": null,
      "outputs": [
        {
          "output_type": "stream",
          "text": [
            "Select the Runtime > \"Change runtime type\" menu to enable a GPU accelerator, \n",
            "and then re-execute this cell.\n"
          ],
          "name": "stdout"
        }
      ]
    },
    {
      "cell_type": "code",
      "metadata": {
        "id": "_XfAd8lLt2ls"
      },
      "source": [
        "## Mount Drive"
      ],
      "execution_count": null,
      "outputs": []
    },
    {
      "cell_type": "code",
      "metadata": {
        "colab": {
          "base_uri": "https://localhost:8080/"
        },
        "id": "7LlmOd_Vt13J",
        "outputId": "63a3e8d9-f767-4ba8-b7cb-565e78aa94c0"
      },
      "source": [
        "# from google.colab import drive\n",
        "\n",
        "# drive.mount('/content/drive')\n",
        "# root_path = 'drive/My Colab Notebooks/'  #change dir to your project folder"
      ],
      "execution_count": null,
      "outputs": [
        {
          "output_type": "stream",
          "text": [
            "Mounted at /content/drive\n"
          ],
          "name": "stdout"
        }
      ]
    },
    {
      "cell_type": "markdown",
      "metadata": {
        "id": "d2Pz8MAhq4NU"
      },
      "source": [
        "## Install & Imports"
      ]
    },
    {
      "cell_type": "code",
      "metadata": {
        "colab": {
          "base_uri": "https://localhost:8080/",
          "height": 35
        },
        "id": "BMULpYwCquco",
        "outputId": "98488aed-62f4-41a2-c64c-e0b4f623a733"
      },
      "source": [
        "import os\n",
        "home = \"/content\"\n",
        "os.chdir(home)\n",
        "os.getcwd()"
      ],
      "execution_count": null,
      "outputs": [
        {
          "output_type": "execute_result",
          "data": {
            "application/vnd.google.colaboratory.intrinsic+json": {
              "type": "string"
            },
            "text/plain": [
              "'/content'"
            ]
          },
          "metadata": {
            "tags": []
          },
          "execution_count": 5
        }
      ]
    },
    {
      "cell_type": "code",
      "metadata": {
        "id": "xjB7mK2aq0CS"
      },
      "source": [
        "!pip install torch==1.6.0 torchvision==0.7.0 -f https://download.pytorch.org/whl/torch_stable.html"
      ],
      "execution_count": null,
      "outputs": []
    },
    {
      "cell_type": "markdown",
      "metadata": {
        "id": "pxWcGDbnq9Y8"
      },
      "source": [
        "### Install MMF from Source"
      ]
    },
    {
      "cell_type": "code",
      "metadata": {
        "colab": {
          "base_uri": "https://localhost:8080/"
        },
        "id": "mOP0rwtGq_Nl",
        "outputId": "a95dfaf9-774f-4238-b828-f3a3a17c5530"
      },
      "source": [
        "!git clone --branch no_feats --config core.symlinks=true https://github.com/rizavelioglu/mmf.git"
      ],
      "execution_count": null,
      "outputs": [
        {
          "output_type": "stream",
          "text": [
            "fatal: destination path 'mmf' already exists and is not an empty directory.\n"
          ],
          "name": "stdout"
        }
      ]
    },
    {
      "cell_type": "code",
      "metadata": {
        "id": "QcwLjg0NrEJM"
      },
      "source": [
        "import os\n",
        "os.chdir(os.path.join(home, \"mmf\"))"
      ],
      "execution_count": null,
      "outputs": []
    },
    {
      "cell_type": "code",
      "metadata": {
        "id": "pux57uUQrEwP"
      },
      "source": [
        "!pip install --editable ."
      ],
      "execution_count": null,
      "outputs": []
    },
    {
      "cell_type": "markdown",
      "metadata": {
        "id": "qFbz3tHIsK-H"
      },
      "source": [
        "## Convert to MMF format"
      ]
    },
    {
      "cell_type": "code",
      "metadata": {
        "id": "5jL33KQvsQ-p"
      },
      "source": [
        "zip_file_path=\"/content/drive/MyDrive/Colab_Notebooks/hateful_memes/data/hateful_meme_data.zip\""
      ],
      "execution_count": null,
      "outputs": []
    },
    {
      "cell_type": "code",
      "metadata": {
        "id": "xuCn7PntsQSl",
        "colab": {
          "base_uri": "https://localhost:8080/"
        },
        "outputId": "661c765f-e2ec-4780-bcbb-74210a5654ea"
      },
      "source": [
        "!mmf_convert_hm --zip_file=$zip_file_path --password=\"\" --bypass_checksum 1"
      ],
      "execution_count": null,
      "outputs": [
        {
          "output_type": "stream",
          "text": [
            "2021-07-23 07:07:32.837643: I tensorflow/stream_executor/platform/default/dso_loader.cc:53] Successfully opened dynamic library libcudart.so.11.0\n",
            "Data folder is /root/.cache/torch/mmf/data\n",
            "Zip path is /content/drive/MyDrive/Colab Notebooks/hateful_memes/data/hateful_meme_data.zip\n",
            "Copying /content/drive/MyDrive/Colab Notebooks/hateful_memes/data/hateful_meme_data.zip\n",
            "Unzipping /content/drive/MyDrive/Colab Notebooks/hateful_memes/data/hateful_meme_data.zip\n",
            "Extracting the zip can take time. Sit back and relax.\n",
            "Moving train.jsonl\n",
            "Moving dev_seen.jsonl\n",
            "Moving test_seen.jsonl\n",
            "Moving dev_unseen.jsonl\n",
            "Moving test_unseen.jsonl\n",
            "Moving img\n"
          ],
          "name": "stdout"
        }
      ]
    },
    {
      "cell_type": "code",
      "metadata": {
        "colab": {
          "base_uri": "https://localhost:8080/"
        },
        "id": "qUDaUC-09ygH",
        "outputId": "cfe4e750-a262-424d-892e-019ee99a5cc5"
      },
      "source": [
        "!ls /root/.cache/torch/mmf/data/datasets/hateful_memes/defaults/images/img/ | wc -l"
      ],
      "execution_count": null,
      "outputs": [
        {
          "output_type": "stream",
          "text": [
            "ls: cannot access '/root/.cache/torch/mmf/data/datasets/hateful_memes/defaults/images/img/': No such file or directory\n",
            "0\n"
          ],
          "name": "stdout"
        }
      ]
    },
    {
      "cell_type": "markdown",
      "metadata": {
        "id": "dcVWmRLzsetF"
      },
      "source": [
        "## Feature Extraction"
      ]
    },
    {
      "cell_type": "markdown",
      "metadata": {
        "id": "WolpcCNptAQw"
      },
      "source": [
        "### VQA Mask-RCNN"
      ]
    },
    {
      "cell_type": "code",
      "metadata": {
        "id": "fQOs9_hWshH3"
      },
      "source": [
        "import os\n",
        "os.chdir(home)\n",
        "!git clone https://gitlab.com/vedanuj/vqa-maskrcnn-benchmark"
      ],
      "execution_count": null,
      "outputs": []
    },
    {
      "cell_type": "code",
      "metadata": {
        "id": "hnfJB2rIsjZs"
      },
      "source": [
        "!pip install ninja yacs cython matplotlib"
      ],
      "execution_count": null,
      "outputs": []
    },
    {
      "cell_type": "code",
      "metadata": {
        "id": "4yhHHUxhtGbO"
      },
      "source": [
        "os.chdir(os.path.join(home, \"vqa-maskrcnn-benchmark\"))\n",
        "!rm -rf build\n",
        "!python setup.py build develop"
      ],
      "execution_count": null,
      "outputs": []
    },
    {
      "cell_type": "markdown",
      "metadata": {
        "id": "MlDBlBx-tI3g"
      },
      "source": [
        "### Extract"
      ]
    },
    {
      "cell_type": "code",
      "metadata": {
        "id": "iYgMbgQ7tL6y"
      },
      "source": [
        "os.chdir(os.path.join(home, \"mmf/tools/scripts/features/\"))\n",
        "out_folder = os.path.join(home, \"features/\")\n",
        "\n",
        "!python extract_features_vmb.py --config_file \"https://dl.fbaipublicfiles.com/pythia/detectron_model/detectron_model_x152.yaml\" \\\n",
        "                                --model_name \"X-152\" \\\n",
        "                                --output_folder $out_folder \\\n",
        "                                --image_dir \"/root/.cache/torch/mmf/data/datasets/hateful_memes/defaults/images/img/\" \\\n",
        "                                --num_features 100 \\"
      ],
      "execution_count": null,
      "outputs": []
    },
    {
      "cell_type": "code",
      "metadata": {
        "id": "pfvX2JsKa9TR"
      },
      "source": [
        "os.chdir(home)\n",
        "# !zip -r \"/content/drive/MyDrive/Colab_Notebooks/hateful_memes/features.zip\" features"
      ],
      "execution_count": null,
      "outputs": []
    },
    {
      "cell_type": "markdown",
      "metadata": {
        "id": "Q9hei3Dosjrb"
      },
      "source": [
        "## Fine-tuning w/ VisualBERT"
      ]
    },
    {
      "cell_type": "code",
      "metadata": {
        "colab": {
          "base_uri": "https://localhost:8080/",
          "height": 35
        },
        "id": "CL05ELPBHv0M",
        "outputId": "a31a6e59-c9b0-4173-f8fb-e0b208ca16ba"
      },
      "source": [
        "# os.chdir(\"/content/drive/MyDrive/Colab Notebooks/hateful_memes/\")\n",
        "# os.getcwd()\n",
        "# # !unzip \"features.zip\""
      ],
      "execution_count": null,
      "outputs": [
        {
          "output_type": "execute_result",
          "data": {
            "application/vnd.google.colaboratory.intrinsic+json": {
              "type": "string"
            },
            "text/plain": [
              "'/content/drive/MyDrive/Colab Notebooks/hateful_memes/features'"
            ]
          },
          "metadata": {
            "tags": []
          },
          "execution_count": 33
        }
      ]
    },
    {
      "cell_type": "code",
      "metadata": {
        "colab": {
          "base_uri": "https://localhost:8080/",
          "height": 35
        },
        "id": "X-91C1-fMSE9",
        "outputId": "cc4cbde5-7854-416c-f2ee-da3f7fc8a680"
      },
      "source": [
        "os.chdir(home)\n",
        "os.getcwd()"
      ],
      "execution_count": null,
      "outputs": [
        {
          "output_type": "execute_result",
          "data": {
            "application/vnd.google.colaboratory.intrinsic+json": {
              "type": "string"
            },
            "text/plain": [
              "'/content'"
            ]
          },
          "metadata": {
            "tags": []
          },
          "execution_count": 32
        }
      ]
    },
    {
      "cell_type": "code",
      "metadata": {
        "id": "-NNCzZ4DQt0D"
      },
      "source": [
        "log_dir =\"/content/drive/MyDrive/Colab_Notebooks/hateful_memes/logs/\"\n",
        "save_dir=\"/content/drive/MyDrive/Colab_Notebooks/hateful_memes/submissions/\"\n",
        "# Define where image features are\n",
        "feats_dir = \"/content/drive/MyDrive/Colab_Notebooks/hateful_memes/features/\"\n",
        "train_dir = \"hateful_memes/defaults/annotations/train.jsonl\"\n"
      ],
      "execution_count": null,
      "outputs": []
    },
    {
      "cell_type": "code",
      "metadata": {
        "id": "8Vs7NQoVt9DW"
      },
      "source": [
        "%tensorboard --logdir \"/content/drive/MyDrive/Colab_Notebooks/hateful_memes/logs/fit"
      ],
      "execution_count": null,
      "outputs": []
    },
    {
      "cell_type": "code",
      "metadata": {
        "id": "MUobSz2Vsmd8"
      },
      "source": [
        "\n",
        "# # Define where train.jsonl is\n",
        "# train_dir = os.path.join(home, \"train_v9.jsonl\")\n",
        "!mmf_run \\\n",
        "        config=\"projects/visual_bert/configs/hateful_memes/from_coco.yaml\" \\\n",
        "        model=\"visual_bert\" \\\n",
        "        dataset=hateful_memes \\\n",
        "        run_type=train_val \\\n",
        "        checkpoint.max_to_keep=1 \\\n",
        "        checkpoint.resume_zoo=visual_bert.pretrained.cc.full \\\n",
        "        training.tensorboard=True \\\n",
        "        training.checkpoint_interval=50 \\\n",
        "        training.evaluation_interval=50 \\\n",
        "        training.max_updates=3000 \\\n",
        "        training.log_interval=100 \\\n",
        "        dataset_config.hateful_memes.max_features=100 \\\n",
        "        dataset_config.hateful_memes.annotations.train[0]=$train_dir \\\n",
        "        dataset_config.hateful_memes.annotations.val[0]=hateful_memes/defaults/annotations/dev_unseen.jsonl \\\n",
        "        dataset_config.hateful_memes.annotations.test[0]=hateful_memes/defaults/annotations/test_unseen.jsonl \\\n",
        "        dataset_config.hateful_memes.features.train[0]=$feats_dir \\\n",
        "        dataset_config.hateful_memes.features.val[0]=$feats_dir \\\n",
        "        dataset_config.hateful_memes.features.test[0]=$feats_dir \\\n",
        "        training.lr_ratio=0.3 \\\n",
        "        training.use_warmup=True \\\n",
        "        training.batch_size=32 \\\n",
        "        optimizer.params.lr=5.0e-05 \\\n",
        "        env.save_dir=$save_dir \\\n",
        "        env.tensorboard_logdir=$log_dir \\"
      ],
      "execution_count": null,
      "outputs": []
    },
    {
      "cell_type": "code",
      "metadata": {
        "id": "m9U75WhO4uNO"
      },
      "source": [
        ""
      ],
      "execution_count": null,
      "outputs": []
    }
  ]
}